{
  "nbformat": 4,
  "nbformat_minor": 0,
  "metadata": {
    "colab": {
      "provenance": [],
      "authorship_tag": "ABX9TyMzkJFmvKVoXfSjG0gZk7eE",
      "include_colab_link": true
    },
    "kernelspec": {
      "name": "python3",
      "display_name": "Python 3"
    },
    "language_info": {
      "name": "python"
    }
  },
  "cells": [
    {
      "cell_type": "markdown",
      "metadata": {
        "id": "view-in-github",
        "colab_type": "text"
      },
      "source": [
        "<a href=\"https://colab.research.google.com/github/nannthd/bsc_dpdm22/blob/main/Classification_KKN.ipynb\" target=\"_parent\"><img src=\"https://colab.research.google.com/assets/colab-badge.svg\" alt=\"Open In Colab\"/></a>"
      ]
    },
    {
      "cell_type": "code",
      "execution_count": 1,
      "metadata": {
        "id": "GR6WpyP8U313"
      },
      "outputs": [],
      "source": [
        "from sklearn.datasets import load_digits\n",
        "digits = load_digits()\n",
        "\n",
        "import matplotlib.pyplot as plt"
      ]
    },
    {
      "cell_type": "code",
      "source": [
        "digits"
      ],
      "metadata": {
        "id": "riPWC0AUV_zi"
      },
      "execution_count": null,
      "outputs": []
    },
    {
      "cell_type": "code",
      "source": [
        "ind = 28\n",
        "plt.gray()\n",
        "plt.matshow(digits.images[ind])\n",
        "print(digits.target[ind])"
      ],
      "metadata": {
        "colab": {
          "base_uri": "https://localhost:8080/",
          "height": 310
        },
        "id": "ep9BhBp7Vyw4",
        "outputId": "7ee02324-7953-49c9-ca4a-99897dc05dd4"
      },
      "execution_count": 3,
      "outputs": [
        {
          "output_type": "stream",
          "name": "stdout",
          "text": [
            "8\n"
          ]
        },
        {
          "output_type": "display_data",
          "data": {
            "text/plain": [
              "<Figure size 432x288 with 0 Axes>"
            ]
          },
          "metadata": {}
        },
        {
          "output_type": "display_data",
          "data": {
            "text/plain": [
              "<Figure size 288x288 with 1 Axes>"
            ],
            "image/png": "[encoded data removed]"
          },
          "metadata": {
            "needs_background": "light"
          }
        }
      ]
    },
    {
      "cell_type": "markdown",
      "source": [
        "# Quiz 3 march\n",
        "- แบ่ง data ออกเป็น 80(train) 20(test) โดยใช้ random_state = เลขกลุ่ม(3) shuffle=True\n",
        "- หา parameters ที่ดีที่สุด (K (1,3,5) Distance_weighted (yes/no)) ด้วย 10-fold-cross-validation\n",
        "- test parameters ที่ดีที่สุดกับ test data"
      ],
      "metadata": {
        "id": "4YXwDoB1XM4k"
      }
    },
    {
      "cell_type": "code",
      "source": [
        "X = digits['data']\n",
        "y = digits['target']"
      ],
      "metadata": {
        "id": "0mL3wgBiZRQ-"
      },
      "execution_count": 4,
      "outputs": []
    },
    {
      "cell_type": "code",
      "source": [
        "X"
      ],
      "metadata": {
        "colab": {
          "base_uri": "https://localhost:8080/"
        },
        "id": "_b2VAGClZWOQ",
        "outputId": "56c16720-a270-4a93-e55c-3abd15a40090"
      },
      "execution_count": 5,
      "outputs": [
        {
          "output_type": "execute_result",
          "data": {
            "text/plain": [
              "array([[ 0.,  0.,  5., ...,  0.,  0.,  0.],\n",
              "       [ 0.,  0.,  0., ..., 10.,  0.,  0.],\n",
              "       [ 0.,  0.,  0., ..., 16.,  9.,  0.],\n",
              "       ...,\n",
              "       [ 0.,  0.,  1., ...,  6.,  0.,  0.],\n",
              "       [ 0.,  0.,  2., ..., 12.,  0.,  0.],\n",
              "       [ 0.,  0., 10., ..., 12.,  1.,  0.]])"
            ]
          },
          "metadata": {},
          "execution_count": 5
        }
      ]
    },
    {
      "cell_type": "code",
      "source": [
        "y"
      ],
      "metadata": {
        "colab": {
          "base_uri": "https://localhost:8080/"
        },
        "id": "ghiWNeBdZYHJ",
        "outputId": "bfbcca57-2fec-44f4-c5c2-4c623acc278b"
      },
      "execution_count": 6,
      "outputs": [
        {
          "output_type": "execute_result",
          "data": {
            "text/plain": [
              "array([0, 1, 2, ..., 8, 9, 8])"
            ]
          },
          "metadata": {},
          "execution_count": 6
        }
      ]
    },
    {
      "cell_type": "code",
      "source": [
        "import pandas as pd\n",
        "import numpy as np"
      ],
      "metadata": {
        "id": "vxiT4CPxYMXJ"
      },
      "execution_count": 7,
      "outputs": []
    },
    {
      "cell_type": "code",
      "source": [
        "from sklearn.tree import DecisionTreeClassifier\n",
        "from sklearn.model_selection import cross_val_score, KFold\n",
        "from sklearn.metrics import accuracy_score\n",
        "from sklearn.datasets import load_digits\n",
        "from sklearn.model_selection import train_test_split, cross_val_score\n",
        "from sklearn.neighbors import KNeighborsClassifier"
      ],
      "metadata": {
        "id": "WMewyWOfac4G"
      },
      "execution_count": 8,
      "outputs": []
    },
    {
      "cell_type": "code",
      "source": [
        "# Load the digits dataset\n",
        "digits = load_digits()\n",
        "\n",
        "# Split the data into training and testing sets\n",
        "X_train, X_test, y_train, y_test = train_test_split(digits.data, digits.target, test_size=0.2, random_state=3, shuffle=True)\n",
        "\n",
        "# Define the hyperparameters to test\n",
        "n_neighbors = [1, 3, 5]\n",
        "weights = ['uniform', 'distance']\n",
        "\n",
        "# Initialize variables to keep track of the best hyperparameters and the highest cross-validation score\n",
        "best_params = None\n",
        "best_score = 0\n",
        "\n",
        "# Test each combination of hyperparameters\n",
        "for n in n_neighbors:\n",
        "    for w in weights:\n",
        "        # Create a KNN classifier object with the current hyperparameters\n",
        "        knn = KNeighborsClassifier(n_neighbors=n, weights=w)\n",
        "        \n",
        "        # Calculate the average cross-validation score for this combination of hyperparameters\n",
        "        scores = cross_val_score(knn, X_train, y_train, cv=10)\n",
        "        avg_score = scores.mean()\n",
        "        \n",
        "        # Check if this combination of hyperparameters is better than the previous best\n",
        "        if avg_score > best_score:\n",
        "            best_score = avg_score\n",
        "            best_params = {'n_neighbors': n, 'weights': w}\n",
        "\n",
        "# Print the best hyperparameters and the corresponding cross-validation score\n",
        "print('Best hyperparameters:', best_params)\n",
        "print('Cross-validation score:', best_score)\n",
        "\n",
        "# Create a KNN classifier object with the best hyperparameters and fit it to the training data\n",
        "best_knn = KNeighborsClassifier(n_neighbors=best_params['n_neighbors'], weights=best_params['weights'])\n",
        "best_knn.fit(X_train, y_train)\n",
        "\n",
        "# Calculate the accuracy score on the test data\n",
        "test_score = best_knn.score(X_test, y_test)\n",
        "print('Test accuracy score:', test_score)"
      ],
      "metadata": {
        "colab": {
          "base_uri": "https://localhost:8080/"
        },
        "id": "UkWaEIWse8kK",
        "outputId": "57eb935f-5f4e-4cd4-fafb-f385c56208ed"
      },
      "execution_count": 9,
      "outputs": [
        {
          "output_type": "stream",
          "name": "stdout",
          "text": [
            "Best hyperparameters: {'n_neighbors': 1, 'weights': 'uniform'}\n",
            "Cross-validation score: 0.9867618492618492\n",
            "Test accuracy score: 0.9888888888888889\n"
          ]
        }
      ]
    },
    {
      "cell_type": "markdown",
      "source": [
        "## เฉลย Quiz"
      ],
      "metadata": {
        "id": "5KOXfNazfT6R"
      }
    },
    {
      "cell_type": "code",
      "source": [
        "from sklearn.model_selection import train_test_split, cross_val_score"
      ],
      "metadata": {
        "id": "AB4KezX9ftOH"
      },
      "execution_count": 10,
      "outputs": []
    },
    {
      "cell_type": "code",
      "execution_count": 16,
      "metadata": {
        "id": "qCaJZ0ycU3ju"
      },
      "outputs": [],
      "source": [
        "X_train, X_test, y_train, y_test = train_test_split(digits.data, digits.target, test_size=0.2, random_state=3)\n"
      ]
    },
    {
      "cell_type": "code",
      "source": [
        "from sklearn.neighbors import KNeighborsClassifier"
      ],
      "metadata": {
        "id": "b7BXaKx9gw2b"
      },
      "execution_count": 17,
      "outputs": []
    },
    {
      "cell_type": "markdown",
      "source": [
        "### model selection"
      ],
      "metadata": {
        "id": "tl17Pt_EgSj4"
      }
    },
    {
      "cell_type": "code",
      "source": [
        "# model 1 (K=1, weighted)\n",
        "knn_distance = KNeighborsClassifier(n_neighbors=1, weights='distance')\n",
        "scores = cross_val_score(knn_distance, X_train, y_train, cv=10)\n",
        "print(\"Mean Cross-Validation Score: K1weighted\", scores.mean())\n",
        "\n",
        "# model 2 (K=3, weighted)\n",
        "knn_distance = KNeighborsClassifier(n_neighbors=3, weights='distance')\n",
        "scores = cross_val_score(knn_distance, X_train, y_train, cv=10)\n",
        "print(\"Mean Cross-Validation Score: K3weighted\", scores.mean())\n",
        "\n",
        "# model 3 (K=5, weighted)\n",
        "knn_distance = KNeighborsClassifier(n_neighbors=5, weights='distance')\n",
        "scores = cross_val_score(knn_distance, X_train, y_train, cv=10)\n",
        "print(\"Mean Cross-Validation Score: K5weighted\", scores.mean())\n",
        "\n",
        "# model 4 (K=1, no weighted)\n",
        "knn_distance = KNeighborsClassifier(n_neighbors=1, weights='uniform')\n",
        "scores = cross_val_score(knn_distance, X_train, y_train, cv=10)\n",
        "print(\"Mean Cross-Validation Score: K1NOweighted\", scores.mean())\n",
        "\n",
        "# model 5 (K=3, no weighted)\n",
        "knn_distance = KNeighborsClassifier(n_neighbors=3, weights='uniform')\n",
        "scores = cross_val_score(knn_distance, X_train, y_train, cv=10)\n",
        "print(\"Mean Cross-Validation Score: K3NOweighted\", scores.mean())\n",
        "\n",
        "# model 6 (K=5, no weighted)\n",
        "knn_distance = KNeighborsClassifier(n_neighbors=5, weights='uniform')\n",
        "scores = cross_val_score(knn_distance, X_train, y_train, cv=10)\n",
        "print(\"Mean Cross-Validation Score: KNOweighted\", scores.mean())"
      ],
      "metadata": {
        "colab": {
          "base_uri": "https://localhost:8080/"
        },
        "id": "8VoSjrp9f__9",
        "outputId": "40783cda-741e-4957-9a81-1a284d3bc3c0"
      },
      "execution_count": 18,
      "outputs": [
        {
          "output_type": "stream",
          "name": "stdout",
          "text": [
            "Mean Cross-Validation Score: K1weighted 0.9867618492618492\n",
            "Mean Cross-Validation Score: K3weighted 0.985368104118104\n",
            "Mean Cross-Validation Score: K5weighted 0.9839792152292152\n",
            "Mean Cross-Validation Score: K1NOweighted 0.9867618492618492\n",
            "Mean Cross-Validation Score: K3NOweighted 0.985368104118104\n",
            "Mean Cross-Validation Score: KNOweighted 0.9832847707847707\n"
          ]
        }
      ]
    },
    {
      "cell_type": "markdown",
      "source": [
        "### Evaluate with test set"
      ],
      "metadata": {
        "id": "n8nB-MZciU_g"
      }
    },
    {
      "cell_type": "code",
      "source": [
        "knn_distance = KNeighborsClassifier(n_neighbors=5, weights='distance')\n",
        "\n",
        "knn_distance.fit(X_train,y_train)\n",
        "\n",
        "y_pred = knn_distance.predict(X_test)"
      ],
      "metadata": {
        "id": "boHyFbPzhMlJ"
      },
      "execution_count": 19,
      "outputs": []
    },
    {
      "cell_type": "code",
      "source": [
        "from sklearn.metrics import accuracy_score\n",
        "\n",
        "# Assume y_true and y_pred are the true and predicted labels, respectively\n",
        "accuracy = accuracy_score(y_test, y_pred)\n",
        "\n",
        "# Print the accuracy score\n",
        "print(\"Accuracy score: \", accuracy)\n"
      ],
      "metadata": {
        "colab": {
          "base_uri": "https://localhost:8080/"
        },
        "id": "--UCUjh6i3G6",
        "outputId": "58cbe5ca-dc1c-4c11-efe0-89793e03bc2c"
      },
      "execution_count": 20,
      "outputs": [
        {
          "output_type": "stream",
          "name": "stdout",
          "text": [
            "Accuracy score:  0.9861111111111112\n"
          ]
        }
      ]
    },
    {
      "cell_type": "markdown",
      "source": [
        "#HW 7"
      ],
      "metadata": {
        "id": "7RjjKexWwsRR"
      }
    },
    {
      "cell_type": "markdown",
      "source": [
        "หา โมเดลที่ดีที่สุด จาก DT,NaiveBayes,KNN,ANN โดย เปรียบเทียบ อย่างละสอง parameter sets"
      ],
      "metadata": {
        "id": "CfHJQlFkwzbi"
      }
    },
    {
      "cell_type": "code",
      "source": [
        "from sklearn.tree import DecisionTreeClassifier\n",
        "from sklearn.naive_bayes import GaussianNB\n",
        "from sklearn.neighbors import KNeighborsClassifier\n",
        "from sklearn.neural_network import MLPClassifier\n",
        "from sklearn.metrics import accuracy_score\n",
        "\n",
        "# Decision Tree\n",
        "dtc_1 = DecisionTreeClassifier(max_depth=1, random_state=3)\n",
        "dtc_2 = DecisionTreeClassifier(max_depth=5, random_state=3)\n",
        "\n",
        "# Naive Bayes\n",
        "gnb_1 = GaussianNB()\n",
        "gnb_2 = GaussianNB(var_smoothing=0.1)\n",
        "\n",
        "# KNN\n",
        "knn_1 = KNeighborsClassifier(n_neighbors=1, weights='distance')\n",
        "knn_2 = KNeighborsClassifier(n_neighbors=1, weights='uniform')\n",
        "\n",
        "# ANN\n",
        "mlp_1 = MLPClassifier(hidden_layer_sizes=(10,), max_iter=1000, random_state=3)\n",
        "mlp_2 = MLPClassifier(hidden_layer_sizes=(50,), max_iter=1000, random_state=3)\n",
        "\n",
        "# Train and evaluate models\n",
        "models = [(dtc_1, \"DT1\"), (dtc_2, \"DT2\"), (gnb_1, \"NB1\"), (gnb_2, \"NB2\"), (knn_1, \"KNN1\"), (knn_2, \"KNN2\"), (mlp_1, \"ANN1\"), (mlp_2, \"ANN2\")]\n",
        "\n",
        "best_model = None\n",
        "best_accuracy = 0\n",
        "\n",
        "for model, name in models:\n",
        "    model.fit(X_train, y_train)\n",
        "    y_pred = model.predict(X_test)\n",
        "    accuracy = accuracy_score(y_test, y_pred)\n",
        "    print(f\"{name} accuracy: {accuracy}\")\n",
        "    if accuracy > best_accuracy:\n",
        "        best_accuracy = accuracy\n",
        "        best_model = name\n",
        "\n",
        "print(f\"\\nBest model: {best_model} with accuracy {best_accuracy}\")"
      ],
      "metadata": {
        "id": "dXlIprUXw0vx",
        "outputId": "64c25303-0bec-46ed-c3c6-1383f735c9f6",
        "colab": {
          "base_uri": "https://localhost:8080/"
        }
      },
      "execution_count": 21,
      "outputs": [
        {
          "output_type": "stream",
          "name": "stdout",
          "text": [
            "DT1 accuracy: 0.14166666666666666\n",
            "DT2 accuracy: 0.7027777777777777\n",
            "NB1 accuracy: 0.8444444444444444\n",
            "NB2 accuracy: 0.9111111111111111\n",
            "KNN1 accuracy: 0.9888888888888889\n",
            "KNN2 accuracy: 0.9888888888888889\n",
            "ANN1 accuracy: 0.9527777777777777\n",
            "ANN2 accuracy: 0.9694444444444444\n",
            "\n",
            "Best model: KNN1 with accuracy 0.9888888888888889\n"
          ]
        }
      ]
    }
  ]
}